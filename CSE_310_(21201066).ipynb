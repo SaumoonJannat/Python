{
  "nbformat": 4,
  "nbformat_minor": 0,
  "metadata": {
    "colab": {
      "provenance": []
    },
    "kernelspec": {
      "name": "python3",
      "display_name": "Python 3"
    },
    "language_info": {
      "name": "python"
    }
  },
  "cells": [
    {
      "cell_type": "markdown",
      "source": [
        "*how to* **PRINT**\n",
        "\n"
      ],
      "metadata": {
        "id": "51NebYF_wkLN"
      }
    },
    {
      "cell_type": "code",
      "source": [
        "#print your name\n",
        "print(\"Jannatun Saumoon\")"
      ],
      "metadata": {
        "colab": {
          "base_uri": "https://localhost:8080/"
        },
        "id": "WUyQsNmhtW_c",
        "outputId": "98dd87b5-d892-4410-ee2b-7d9bcbeab1f3"
      },
      "execution_count": null,
      "outputs": [
        {
          "output_type": "stream",
          "name": "stdout",
          "text": [
            "Jannatun Saumoon\n"
          ]
        }
      ]
    },
    {
      "cell_type": "code",
      "source": [
        "#print Hello UAP\n",
        "print('Hello UAP!')"
      ],
      "metadata": {
        "colab": {
          "base_uri": "https://localhost:8080/"
        },
        "id": "sBvZOLEptff0",
        "outputId": "41f49ced-c83c-4b9b-ea34-32c90a7d4f34"
      },
      "execution_count": null,
      "outputs": [
        {
          "output_type": "stream",
          "name": "stdout",
          "text": [
            "Hello UAP!\n"
          ]
        }
      ]
    },
    {
      "cell_type": "code",
      "source": [
        "#print course code\n",
        "print(\"course code:\")\n",
        "print('')\n",
        "print(\"CSE 310\")"
      ],
      "metadata": {
        "colab": {
          "base_uri": "https://localhost:8080/"
        },
        "id": "Ztj3SOjLtonU",
        "outputId": "5610f9f8-e241-4329-e656-d61fa87faa76"
      },
      "execution_count": null,
      "outputs": [
        {
          "output_type": "stream",
          "name": "stdout",
          "text": [
            "course code:\n",
            "\n",
            "CSE 310\n"
          ]
        }
      ]
    },
    {
      "cell_type": "code",
      "source": [
        "#print Dhaka , Bangladesh.\n",
        "print(' Dhaka , Bangladesh.')"
      ],
      "metadata": {
        "colab": {
          "base_uri": "https://localhost:8080/"
        },
        "id": "kF3D54X0tx-F",
        "outputId": "c8cedfe1-983e-45f8-929e-47a6eb73528d"
      },
      "execution_count": null,
      "outputs": [
        {
          "output_type": "stream",
          "name": "stdout",
          "text": [
            " Dhaka , Bangladesh.\n"
          ]
        }
      ]
    },
    {
      "cell_type": "code",
      "source": [
        "#print THANK YOU!!\n",
        "print(\"THANK YOU!!\")"
      ],
      "metadata": {
        "colab": {
          "base_uri": "https://localhost:8080/"
        },
        "id": "T8X0bQ5xt1pn",
        "outputId": "42be8342-bcb7-455f-db53-08862d1d0bda"
      },
      "execution_count": null,
      "outputs": [
        {
          "output_type": "stream",
          "name": "stdout",
          "text": [
            "THANK YOU!!\n"
          ]
        }
      ]
    },
    {
      "cell_type": "markdown",
      "source": [
        "  **VARIABLE**"
      ],
      "metadata": {
        "id": "xBKW6df_vEfY"
      }
    },
    {
      "cell_type": "code",
      "source": [
        "#print STRING\n",
        "s = \"i'm Saumoon\"\n",
        "print('hello,')\n",
        "print(s)"
      ],
      "metadata": {
        "colab": {
          "base_uri": "https://localhost:8080/"
        },
        "id": "pQKJNETavHVQ",
        "outputId": "aa3bb842-f33c-4b60-b1e5-ee2d8f52afd5"
      },
      "execution_count": null,
      "outputs": [
        {
          "output_type": "stream",
          "name": "stdout",
          "text": [
            "hello,\n",
            "i'm Saumoon\n"
          ]
        }
      ]
    },
    {
      "cell_type": "code",
      "source": [
        "#print int\n",
        "a = 5\n",
        "print(a)\n"
      ],
      "metadata": {
        "colab": {
          "base_uri": "https://localhost:8080/"
        },
        "id": "93uzOkmMy0Tp",
        "outputId": "34e1ef74-422f-43f3-daa7-cd73eeec9bf7"
      },
      "execution_count": null,
      "outputs": [
        {
          "output_type": "stream",
          "name": "stdout",
          "text": [
            "5\n"
          ]
        }
      ]
    },
    {
      "cell_type": "code",
      "source": [
        "#print float\n",
        "b = 5.05\n",
        "print(b)"
      ],
      "metadata": {
        "colab": {
          "base_uri": "https://localhost:8080/"
        },
        "id": "G3Hg0stL_x8k",
        "outputId": "57136e99-88b0-41d0-e8b1-f054b8fd9e36"
      },
      "execution_count": null,
      "outputs": [
        {
          "output_type": "stream",
          "name": "stdout",
          "text": [
            "5.05\n"
          ]
        }
      ]
    },
    {
      "cell_type": "code",
      "source": [
        "#print bool\n",
        "c = True\n",
        "print(c)"
      ],
      "metadata": {
        "colab": {
          "base_uri": "https://localhost:8080/"
        },
        "id": "MAV2N_etAKLM",
        "outputId": "b5999dfd-e75e-4b62-9b76-0c9ff88a25da"
      },
      "execution_count": null,
      "outputs": [
        {
          "output_type": "stream",
          "name": "stdout",
          "text": [
            "True\n"
          ]
        }
      ]
    },
    {
      "cell_type": "code",
      "source": [
        "a = \"Saumoon,\"\n",
        "b = 5,\n",
        "c =3.1,\n",
        "d = is_regular_student = True\n",
        "print(a, b , c , d )\n",
        "\n"
      ],
      "metadata": {
        "colab": {
          "base_uri": "https://localhost:8080/"
        },
        "id": "ZmAPETwoBBJB",
        "outputId": "868e4891-8ee4-4e05-8868-37e45d654a46"
      },
      "execution_count": null,
      "outputs": [
        {
          "output_type": "stream",
          "name": "stdout",
          "text": [
            "Saumoon, (5,) (3.1,) True\n"
          ]
        }
      ]
    },
    {
      "cell_type": "markdown",
      "source": [
        "**Arithmetic** **operations**"
      ],
      "metadata": {
        "id": "MXL9K_aWF3tN"
      }
    },
    {
      "cell_type": "code",
      "source": [
        "a = 10\n",
        "b = 5\n",
        "sum = a+b\n",
        "print(sum)"
      ],
      "metadata": {
        "colab": {
          "base_uri": "https://localhost:8080/"
        },
        "id": "zZdm43xLF-Gz",
        "outputId": "41d3246b-b3dc-4aa7-9539-e8b7b19f6a2d"
      },
      "execution_count": null,
      "outputs": [
        {
          "output_type": "stream",
          "name": "stdout",
          "text": [
            "15\n"
          ]
        }
      ]
    },
    {
      "cell_type": "code",
      "source": [
        "a = 10\n",
        "b = 5\n",
        "difference = a-b\n",
        "print(difference)"
      ],
      "metadata": {
        "colab": {
          "base_uri": "https://localhost:8080/"
        },
        "id": "rgR2PCXkGbHb",
        "outputId": "2e52acd1-32a1-481d-ab81-ed51f6643799"
      },
      "execution_count": null,
      "outputs": [
        {
          "output_type": "stream",
          "name": "stdout",
          "text": [
            "5\n"
          ]
        }
      ]
    },
    {
      "cell_type": "code",
      "source": [
        "a = 10\n",
        "b = 5\n",
        "multiple = a*b\n",
        "print(multiple)"
      ],
      "metadata": {
        "colab": {
          "base_uri": "https://localhost:8080/"
        },
        "id": "rCffrCo8Gwfi",
        "outputId": "78f2aad6-da49-4198-bd21-4345a78b7e2d"
      },
      "execution_count": null,
      "outputs": [
        {
          "output_type": "stream",
          "name": "stdout",
          "text": [
            "50\n"
          ]
        }
      ]
    },
    {
      "cell_type": "code",
      "source": [
        "#you have 75 balls,divide these 75 balls equally among 15 people.\n",
        "b = 75\n",
        "p = 15\n",
        "print(b/p)\n"
      ],
      "metadata": {
        "colab": {
          "base_uri": "https://localhost:8080/"
        },
        "id": "2TGT-EAxHL72",
        "outputId": "321b243b-5200-4860-a46e-3e4de488a6e4"
      },
      "execution_count": null,
      "outputs": [
        {
          "output_type": "stream",
          "name": "stdout",
          "text": [
            "5.0\n"
          ]
        }
      ]
    },
    {
      "cell_type": "code",
      "source": [
        "#divide 10 by 2,then add 5 to the quotient and multiply by 6.\n",
        "a = 10\n",
        "b = 2\n",
        "c = 5\n",
        "d =6\n",
        "quotient_result = a/b\n",
        "sum = quotient_result + c\n",
        "multi = sum * d\n",
        "print(quotient_result,sum)\n",
        "print(multi)\n"
      ],
      "metadata": {
        "colab": {
          "base_uri": "https://localhost:8080/"
        },
        "id": "Satmleu1Niaa",
        "outputId": "da3a4667-9bd9-4699-f85a-c15c21bf74a3"
      },
      "execution_count": null,
      "outputs": [
        {
          "output_type": "stream",
          "name": "stdout",
          "text": [
            "5.0 10.0\n",
            "60.0\n"
          ]
        }
      ]
    },
    {
      "cell_type": "markdown",
      "source": [
        "**If Else**/control-flow"
      ],
      "metadata": {
        "id": "__kHigwtQdqr"
      }
    },
    {
      "cell_type": "markdown",
      "source": [],
      "metadata": {
        "id": "vd6NB-PKyi3k"
      }
    },
    {
      "cell_type": "code",
      "source": [
        "a=5\n",
        "b=10\n",
        "c=15\n",
        "if a>b and a>c:\n",
        "  print(a)\n",
        "elif b>a and b>c:\n",
        "  print(b)\n",
        "else:\n",
        "    print(c)"
      ],
      "metadata": {
        "colab": {
          "base_uri": "https://localhost:8080/"
        },
        "id": "3M6wfKVWQqOi",
        "outputId": "2420e441-061e-4885-b044-6b14afe2727c"
      },
      "execution_count": null,
      "outputs": [
        {
          "output_type": "stream",
          "name": "stdout",
          "text": [
            "15\n"
          ]
        }
      ]
    },
    {
      "cell_type": "code",
      "source": [
        "a=11\n",
        "if a%2==0:\n",
        "  print('even')\n",
        "else:\n",
        "    print('odd')"
      ],
      "metadata": {
        "colab": {
          "base_uri": "https://localhost:8080/"
        },
        "id": "Prx8dpKZRpyE",
        "outputId": "e5831aa1-7cb2-4033-d055-905e1142f61c"
      },
      "execution_count": null,
      "outputs": [
        {
          "output_type": "stream",
          "name": "stdout",
          "text": [
            "odd\n"
          ]
        }
      ]
    },
    {
      "cell_type": "code",
      "source": [
        "age = 22\n",
        "if age >= 18:\n",
        "  print('adult')\n",
        "elif age>90:\n",
        "  print('old')\n",
        "else:\n",
        "  print('not adult')\n",
        "\n"
      ],
      "metadata": {
        "colab": {
          "base_uri": "https://localhost:8080/"
        },
        "id": "5vFLp7A7SFnZ",
        "outputId": "c51b2980-d34a-4a52-c49e-51f579c34627"
      },
      "execution_count": null,
      "outputs": [
        {
          "output_type": "stream",
          "name": "stdout",
          "text": [
            "adult\n"
          ]
        }
      ]
    },
    {
      "cell_type": "code",
      "source": [
        "#age for job\n",
        "s=24\n",
        "if 18<s<55:\n",
        "  print('okay')\n",
        "else:\n",
        "  print('reject')"
      ],
      "metadata": {
        "colab": {
          "base_uri": "https://localhost:8080/"
        },
        "id": "r8voOdUiTJg8",
        "outputId": "acc95211-e2f8-494d-ddf8-f665ab956e9e"
      },
      "execution_count": null,
      "outputs": [
        {
          "output_type": "stream",
          "name": "stdout",
          "text": [
            "okay\n"
          ]
        }
      ]
    },
    {
      "cell_type": "code",
      "source": [
        "#leap year\n",
        "\n",
        "year=2024\n",
        "\n",
        "if(year%4==0 and year%100!=0) or (year%400==0):\n",
        "  print(\"leap year\")\n",
        "else:\n",
        "  print(\"NOT leap year\")"
      ],
      "metadata": {
        "colab": {
          "base_uri": "https://localhost:8080/"
        },
        "id": "FgxgCcoaVFs9",
        "outputId": "93be14c0-5c64-4cd6-eb78-f4a93305c86d"
      },
      "execution_count": null,
      "outputs": [
        {
          "output_type": "stream",
          "name": "stdout",
          "text": [
            "leap year\n"
          ]
        }
      ]
    },
    {
      "cell_type": "markdown",
      "source": [
        "***String***"
      ],
      "metadata": {
        "id": "utvj1_SaYi2k"
      }
    },
    {
      "cell_type": "code",
      "source": [
        "#Concatenate two strings\n",
        "string1=\"jannatun\"\n",
        "string2=\"saumoon\"\n",
        "\n",
        "string=string1 +\" \"+ string2\n",
        "print(string)\n"
      ],
      "metadata": {
        "colab": {
          "base_uri": "https://localhost:8080/"
        },
        "id": "DjcZBMkhY6-R",
        "outputId": "dc05222b-87f7-49eb-a118-1168cb73ef65"
      },
      "execution_count": null,
      "outputs": [
        {
          "output_type": "stream",
          "name": "stdout",
          "text": [
            "jannatun saumoon\n"
          ]
        }
      ]
    },
    {
      "cell_type": "code",
      "source": [
        "# uppercase\n",
        "a=\"Jannatun\"\n",
        "print(a.upper())"
      ],
      "metadata": {
        "colab": {
          "base_uri": "https://localhost:8080/"
        },
        "id": "DJuMTLT8ZnTx",
        "outputId": "dc599d95-649f-48e2-f699-52e4923256e3"
      },
      "execution_count": null,
      "outputs": [
        {
          "output_type": "stream",
          "name": "stdout",
          "text": [
            "JANNATUN\n"
          ]
        }
      ]
    },
    {
      "cell_type": "code",
      "source": [
        "#lowercase\n",
        "a= \"Saumoon\"\n",
        "print(a.lower())"
      ],
      "metadata": {
        "colab": {
          "base_uri": "https://localhost:8080/"
        },
        "id": "ex0a4UhgZ_eo",
        "outputId": "7c94632c-03ba-4500-b8f9-214e3d75123e"
      },
      "execution_count": null,
      "outputs": [
        {
          "output_type": "stream",
          "name": "stdout",
          "text": [
            "saumoon\n"
          ]
        }
      ]
    },
    {
      "cell_type": "code",
      "source": [
        "s=\"Saumoon 66\"\n",
        "print(s.split())"
      ],
      "metadata": {
        "colab": {
          "base_uri": "https://localhost:8080/"
        },
        "id": "X0ajqZNlahiJ",
        "outputId": "8f664b4d-66ac-4169-d332-015fdd017bcd"
      },
      "execution_count": null,
      "outputs": [
        {
          "output_type": "stream",
          "name": "stdout",
          "text": [
            "['Saumoon', '66']\n"
          ]
        }
      ]
    },
    {
      "cell_type": "code",
      "source": [
        "a = \"Hello\"\n",
        "b = \"Saumoon\"\n",
        "c = a+\" i'm \"+b + \" \" +str(66)\n",
        "c\n",
        "c.upper()\n"
      ],
      "metadata": {
        "colab": {
          "base_uri": "https://localhost:8080/",
          "height": 35
        },
        "id": "3NglOc-zbCXv",
        "outputId": "c8bb91fa-3c42-4050-89f9-2c98627c47ae"
      },
      "execution_count": null,
      "outputs": [
        {
          "output_type": "execute_result",
          "data": {
            "text/plain": [
              "\"HELLO I'M SAUMOON 66\""
            ],
            "application/vnd.google.colaboratory.intrinsic+json": {
              "type": "string"
            }
          },
          "metadata": {},
          "execution_count": 50
        }
      ]
    },
    {
      "cell_type": "markdown",
      "source": [
        " **user** **input**"
      ],
      "metadata": {
        "id": "3-fGoyCOyq69"
      }
    },
    {
      "cell_type": "code",
      "source": [
        "#sum of two number\n",
        "num1 = int(input(\"enter num1  \"))\n",
        "num2 = float(input(\"enter num2  \"))\n",
        "sum = num1 + num2\n",
        "print(sum)\n"
      ],
      "metadata": {
        "colab": {
          "base_uri": "https://localhost:8080/"
        },
        "id": "RL5FbBHYyzqx",
        "outputId": "13da5809-3137-40c7-8416-1f6a2f813aba"
      },
      "execution_count": null,
      "outputs": [
        {
          "output_type": "stream",
          "name": "stdout",
          "text": [
            "enter num1  5\n",
            "enter num2  5.9\n",
            "10.9\n"
          ]
        }
      ]
    },
    {
      "cell_type": "code",
      "source": [
        "a=int(input())\n",
        "print(type(a))"
      ],
      "metadata": {
        "colab": {
          "base_uri": "https://localhost:8080/"
        },
        "id": "GAxdv-cM0U7c",
        "outputId": "b263bf64-85d1-40d0-c8ce-400ce584995c"
      },
      "execution_count": null,
      "outputs": [
        {
          "output_type": "stream",
          "name": "stdout",
          "text": [
            "5\n",
            "<class 'int'>\n"
          ]
        }
      ]
    },
    {
      "cell_type": "code",
      "source": [
        "a=float(input())\n",
        "print(a)\n"
      ],
      "metadata": {
        "colab": {
          "base_uri": "https://localhost:8080/"
        },
        "id": "f8WBuT7r0oYo",
        "outputId": "9bf1e953-57ea-4192-b79e-865b56bdd709"
      },
      "execution_count": null,
      "outputs": [
        {
          "output_type": "stream",
          "name": "stdout",
          "text": [
            "6.9\n",
            "6.9\n"
          ]
        }
      ]
    },
    {
      "cell_type": "code",
      "source": [
        "name=input('Enter name: ')\n",
        "age=int(input('Enter Age: '))\n",
        "print (type(age))\n",
        "print('Hello '+ name +'! '+'your age is '+str(age))\n",
        "print (name,age)"
      ],
      "metadata": {
        "colab": {
          "base_uri": "https://localhost:8080/"
        },
        "id": "V17RorLD0wpN",
        "outputId": "5b530c5b-08b0-4d99-942f-9bfc2156b5d6"
      },
      "execution_count": null,
      "outputs": [
        {
          "output_type": "stream",
          "name": "stdout",
          "text": [
            "Enter name: moon\n",
            "Enter Age: 22\n",
            "<class 'int'>\n",
            "Hello moon! your age is 22\n",
            "moon 22\n"
          ]
        }
      ]
    },
    {
      "cell_type": "markdown",
      "source": [
        "**comments**"
      ],
      "metadata": {
        "id": "RIT69ZQY2Tzg"
      }
    },
    {
      "cell_type": "code",
      "source": [
        "# hello sir. I'm jannatun saumoon\n",
        "\n",
        "\"\"\"\n",
        "Hello Sir.\n",
        "I'm Jannatun Saumoon.\n",
        "roll no-66.\n",
        "\"\"\"\n"
      ],
      "metadata": {
        "colab": {
          "base_uri": "https://localhost:8080/",
          "height": 35
        },
        "id": "v_5sHLkQ2Qzm",
        "outputId": "cae6363b-eb17-4bc6-cf9e-0f2444d5a8e6"
      },
      "execution_count": null,
      "outputs": [
        {
          "output_type": "execute_result",
          "data": {
            "text/plain": [
              "\"\\nHello Sir. \\nI'm Jannatun Saumoon.\\nroll no-66.\\n\""
            ],
            "application/vnd.google.colaboratory.intrinsic+json": {
              "type": "string"
            }
          },
          "metadata": {},
          "execution_count": 72
        }
      ]
    },
    {
      "cell_type": "markdown",
      "source": [
        "**Loops**"
      ],
      "metadata": {
        "id": "03PdlAGcTrs8"
      }
    },
    {
      "cell_type": "code",
      "source": [
        "#for loop\n",
        "for i in range(1,50,5):\n",
        "  print(i)"
      ],
      "metadata": {
        "colab": {
          "base_uri": "https://localhost:8080/"
        },
        "id": "fomTcmf9T_JI",
        "outputId": "6dbf9f66-fba7-4235-9cba-3ff4c3bcbc25"
      },
      "execution_count": null,
      "outputs": [
        {
          "output_type": "stream",
          "name": "stdout",
          "text": [
            "1\n",
            "6\n",
            "11\n",
            "16\n",
            "21\n",
            "26\n",
            "31\n",
            "36\n",
            "41\n",
            "46\n"
          ]
        }
      ]
    },
    {
      "cell_type": "code",
      "source": [
        "#for loop\n",
        "for i in range(100,0,-9):\n",
        "  print(i)"
      ],
      "metadata": {
        "colab": {
          "base_uri": "https://localhost:8080/"
        },
        "id": "y6oyviQmVl1e",
        "outputId": "ebdf8454-2c98-4294-82e1-2d24eb4a6d44"
      },
      "execution_count": null,
      "outputs": [
        {
          "output_type": "stream",
          "name": "stdout",
          "text": [
            "100\n",
            "91\n",
            "82\n",
            "73\n",
            "64\n",
            "55\n",
            "46\n",
            "37\n",
            "28\n",
            "19\n",
            "10\n",
            "1\n"
          ]
        }
      ]
    },
    {
      "cell_type": "code",
      "source": [
        "#for loop\n",
        "for i in range(-25,-10,7):\n",
        "  print(i)"
      ],
      "metadata": {
        "colab": {
          "base_uri": "https://localhost:8080/"
        },
        "id": "H5nn7XELV84J",
        "outputId": "88ea3633-2087-4f32-890c-996637f04afa"
      },
      "execution_count": null,
      "outputs": [
        {
          "output_type": "stream",
          "name": "stdout",
          "text": [
            "-25\n",
            "-18\n",
            "-11\n"
          ]
        }
      ]
    },
    {
      "cell_type": "code",
      "source": [
        "#While Loop\n",
        "count = 1\n",
        "while count <= 10:\n",
        "    print(count)\n",
        "    count +=.5"
      ],
      "metadata": {
        "colab": {
          "base_uri": "https://localhost:8080/"
        },
        "id": "QWlNKaSuXcaX",
        "outputId": "e3213d70-b563-412b-b2e3-50c1d0cdb2ec"
      },
      "execution_count": null,
      "outputs": [
        {
          "output_type": "stream",
          "name": "stdout",
          "text": [
            "1\n",
            "1.5\n",
            "2.0\n",
            "2.5\n",
            "3.0\n",
            "3.5\n",
            "4.0\n",
            "4.5\n",
            "5.0\n",
            "5.5\n",
            "6.0\n",
            "6.5\n",
            "7.0\n",
            "7.5\n",
            "8.0\n",
            "8.5\n",
            "9.0\n",
            "9.5\n",
            "10.0\n"
          ]
        }
      ]
    },
    {
      "cell_type": "markdown",
      "source": [
        "**LIST**"
      ],
      "metadata": {
        "id": "gtWt9kly2fJC"
      }
    },
    {
      "cell_type": "code",
      "source": [
        "#Accessing List Elements\n",
        "student =[\"X\",\"Y\",\"Z\"]\n",
        "print(student[0])\n",
        "print(student[1])\n",
        "print(student[2])\n",
        "\n",
        "print(student)"
      ],
      "metadata": {
        "colab": {
          "base_uri": "https://localhost:8080/"
        },
        "id": "nu-klFMV2etH",
        "outputId": "1611f286-cf20-4515-84b8-a5ca1d357162"
      },
      "execution_count": null,
      "outputs": [
        {
          "output_type": "stream",
          "name": "stdout",
          "text": [
            "X\n",
            "Y\n",
            "Z\n",
            "['X', 'Y', 'Z']\n"
          ]
        }
      ]
    },
    {
      "cell_type": "code",
      "source": [
        "#Modifying List Elements:\n",
        "student =[\"X\",\"Y\",\"Z\"]\n",
        "student[1]=\"SAUMOON\"\n",
        "print(student[0])\n",
        "print(student[1])\n",
        "print(student[2])\n",
        "\n",
        "print(student)"
      ],
      "metadata": {
        "colab": {
          "base_uri": "https://localhost:8080/"
        },
        "id": "FrK3Nnha53bk",
        "outputId": "b2f44bce-7b28-4cfb-d4df-0c1921e87907"
      },
      "execution_count": null,
      "outputs": [
        {
          "output_type": "stream",
          "name": "stdout",
          "text": [
            "X\n",
            "SAUMOON\n",
            "Z\n",
            "['X', 'SAUMOON', 'Z']\n"
          ]
        }
      ]
    },
    {
      "cell_type": "code",
      "source": [
        "#Adding Elements to a List\n",
        "student =[\"X\",\"Y\",\"Z\"]\n",
        "\n",
        "student.append(\"ABC\")\n",
        "\n",
        "print(student[0])\n",
        "print(student[1])\n",
        "print(student[2])\n",
        "\n",
        "print(student)\n",
        "\n"
      ],
      "metadata": {
        "colab": {
          "base_uri": "https://localhost:8080/"
        },
        "id": "i2Fhz5Dn53jL",
        "outputId": "de0b55da-fdb0-4b35-88b6-40ea4885aca9"
      },
      "execution_count": null,
      "outputs": [
        {
          "output_type": "stream",
          "name": "stdout",
          "text": [
            "X\n",
            "Y\n",
            "Z\n",
            "['X', 'Y', 'Z', 'ABC']\n"
          ]
        }
      ]
    },
    {
      "cell_type": "code",
      "source": [
        "#Removing Elements from a List:\n",
        "student =[\"X\",\"Y\",\"Z\"]\n",
        "\n",
        "removed_student = student.pop(0)\n",
        "\n",
        "print(student)\n",
        "\n",
        "print(removed_student)\n"
      ],
      "metadata": {
        "colab": {
          "base_uri": "https://localhost:8080/"
        },
        "id": "7yRQe_kQ70a-",
        "outputId": "daccd60b-5c88-4215-fc14-371157c0deda"
      },
      "execution_count": null,
      "outputs": [
        {
          "output_type": "stream",
          "name": "stdout",
          "text": [
            "['Y', 'Z']\n",
            "X\n"
          ]
        }
      ]
    },
    {
      "cell_type": "code",
      "source": [
        "#List Length:\n",
        "student =[\"X\",\"Y\",\"Z\"]\n",
        "\n",
        "print(len(student))"
      ],
      "metadata": {
        "colab": {
          "base_uri": "https://localhost:8080/"
        },
        "id": "bCCxQew8__0t",
        "outputId": "7d59a10e-e92e-4193-e31a-4415726e1924"
      },
      "execution_count": null,
      "outputs": [
        {
          "output_type": "stream",
          "name": "stdout",
          "text": [
            "3\n"
          ]
        }
      ]
    },
    {
      "cell_type": "code",
      "source": [
        "#List Concatenation:\n",
        "list1 = [\"a\", \"b\", \"c\"]\n",
        "list2 = [1, 2, 3]\n",
        "combined_list = list1 + list2\n",
        "combined_list\n"
      ],
      "metadata": {
        "colab": {
          "base_uri": "https://localhost:8080/"
        },
        "id": "qHCuqnR3AuYZ",
        "outputId": "bf2e734a-db06-41e0-d2dc-ba7933f10ffc"
      },
      "execution_count": null,
      "outputs": [
        {
          "output_type": "execute_result",
          "data": {
            "text/plain": [
              "['a', 'b', 'c', 1, 2, 3]"
            ]
          },
          "metadata": {},
          "execution_count": 64
        }
      ]
    },
    {
      "cell_type": "code",
      "source": [
        "#List Slicing\n",
        "student = [0, 1, 2, 3, 4, 5]\n",
        "subset = student[2:55]  # This will create a new list [2, 3, 4]\n",
        "subset"
      ],
      "metadata": {
        "colab": {
          "base_uri": "https://localhost:8080/"
        },
        "id": "Z8v4W5uqAupd",
        "outputId": "d9f8fbe8-08f4-4f2d-a72f-27b386025074"
      },
      "execution_count": null,
      "outputs": [
        {
          "output_type": "execute_result",
          "data": {
            "text/plain": [
              "[2, 3, 4]"
            ]
          },
          "metadata": {},
          "execution_count": 62
        }
      ]
    },
    {
      "cell_type": "markdown",
      "source": [
        "**FUNCTIONS**"
      ],
      "metadata": {
        "id": "crT2lP17Ck-i"
      }
    },
    {
      "cell_type": "code",
      "source": [
        "#value using function method\n",
        "def x(a,b,c=66):\n",
        "  print(a)\n",
        "  print(b)\n",
        "  print(c)\n",
        "x(65,67)\n"
      ],
      "metadata": {
        "colab": {
          "base_uri": "https://localhost:8080/"
        },
        "id": "ZQjLaHy4C2_A",
        "outputId": "7af62d3c-540d-4894-f18e-e664732de8bd"
      },
      "execution_count": null,
      "outputs": [
        {
          "output_type": "stream",
          "name": "stdout",
          "text": [
            "65\n",
            "67\n",
            "66\n"
          ]
        }
      ]
    },
    {
      "cell_type": "code",
      "source": [
        "#Calling a Function\n",
        " #greet(\"ABC\")\n",
        "\n",
        "def greet(name):\n",
        "  print(\"Hello,\" + name + \"!\")\n",
        "greet(\"ABC\")"
      ],
      "metadata": {
        "colab": {
          "base_uri": "https://localhost:8080/"
        },
        "id": "Mo2uo5w8DUbB",
        "outputId": "0d5e2b05-d375-44f0-fc78-3bc5d2b337cf"
      },
      "execution_count": null,
      "outputs": [
        {
          "output_type": "stream",
          "name": "stdout",
          "text": [
            "Hello,ABC!\n"
          ]
        }
      ]
    },
    {
      "cell_type": "code",
      "source": [
        "def add(a, b= 10):\n",
        "    return a + b\n",
        "\n",
        "result = add(10, 5)\n",
        "print(result)\n"
      ],
      "metadata": {
        "colab": {
          "base_uri": "https://localhost:8080/"
        },
        "id": "Y5colstjFV3Q",
        "outputId": "6299bbcc-daff-4711-d888-42560fff8ba8"
      },
      "execution_count": null,
      "outputs": [
        {
          "output_type": "stream",
          "name": "stdout",
          "text": [
            "15\n"
          ]
        }
      ]
    },
    {
      "cell_type": "code",
      "source": [
        "def greet(name, greeting=\"Hello\"):\n",
        "    return f\"{greeting}, {name}!\"\n",
        "\n",
        "print(greet(\"xyz\"))\n",
        "print(greet(\"abc\", \"Hi\"))\n"
      ],
      "metadata": {
        "colab": {
          "base_uri": "https://localhost:8080/"
        },
        "id": "kyBOcQj6FsLf",
        "outputId": "011d408e-4e9e-4082-f889-784153ba9436"
      },
      "execution_count": null,
      "outputs": [
        {
          "output_type": "stream",
          "name": "stdout",
          "text": [
            "Hello, xyz!\n",
            "Hi, abc!\n"
          ]
        }
      ]
    },
    {
      "cell_type": "code",
      "source": [
        "def f1(a,b):\n",
        "  return [a+b, a*b]\n",
        "type(f1(2,3))"
      ],
      "metadata": {
        "colab": {
          "base_uri": "https://localhost:8080/"
        },
        "id": "YhQAnfKKGNmy",
        "outputId": "69730330-1e1f-4878-8553-b13902441467"
      },
      "execution_count": null,
      "outputs": [
        {
          "output_type": "execute_result",
          "data": {
            "text/plain": [
              "list"
            ]
          },
          "metadata": {},
          "execution_count": 98
        }
      ]
    },
    {
      "cell_type": "code",
      "source": [
        "#add\n",
        "def add(a,b=4):\n",
        "  return a+b\n",
        "x=add(10,5)\n",
        "print(x)"
      ],
      "metadata": {
        "colab": {
          "base_uri": "https://localhost:8080/"
        },
        "id": "D1XiIYMzHMWS",
        "outputId": "6401296f-5cd1-49c5-d502-bdcc268c4030"
      },
      "execution_count": null,
      "outputs": [
        {
          "output_type": "stream",
          "name": "stdout",
          "text": [
            "15\n"
          ]
        }
      ]
    },
    {
      "cell_type": "code",
      "source": [
        "def add(a,b,c):\n",
        "  print('first >>',a)\n",
        "  print('second >>',b)\n",
        "  print('third >>',c)\n",
        "\n",
        "add(a=10,c=100,b=20)\n",
        "\n"
      ],
      "metadata": {
        "colab": {
          "base_uri": "https://localhost:8080/"
        },
        "id": "mDbncxcVHhrR",
        "outputId": "e775e948-fe93-42bd-b19b-dcd27cfab81d"
      },
      "execution_count": null,
      "outputs": [
        {
          "output_type": "stream",
          "name": "stdout",
          "text": [
            "first >> 10\n",
            "second >> 20\n",
            "third >> 100\n"
          ]
        }
      ]
    },
    {
      "cell_type": "markdown",
      "source": [
        "**Tuple**"
      ],
      "metadata": {
        "id": "mbWBFsJcJEbw"
      }
    },
    {
      "cell_type": "code",
      "source": [
        "#access individual elements\n",
        "SAUMOON=(66,310)\n",
        "print(SAUMOON[0])\n",
        "print(SAUMOON[1])"
      ],
      "metadata": {
        "colab": {
          "base_uri": "https://localhost:8080/"
        },
        "id": "gNOJkHMfHhx7",
        "outputId": "73b87653-7f85-49de-b77b-8043728414c4"
      },
      "execution_count": null,
      "outputs": [
        {
          "output_type": "stream",
          "name": "stdout",
          "text": [
            "66\n",
            "310\n"
          ]
        }
      ]
    },
    {
      "cell_type": "code",
      "source": [
        "#Packing tuple\n",
        "name='saumoon'\n",
        "age=22\n",
        "\n",
        "name_and_age=(\"saumoon\",22)\n",
        "print(name)\n",
        "print(age)"
      ],
      "metadata": {
        "colab": {
          "base_uri": "https://localhost:8080/"
        },
        "id": "1qQxB4g1KUB3",
        "outputId": "f86fe74f-3be3-4626-ed49-e194176fee6f"
      },
      "execution_count": null,
      "outputs": [
        {
          "output_type": "stream",
          "name": "stdout",
          "text": [
            "saumoon\n",
            "22\n"
          ]
        }
      ]
    },
    {
      "cell_type": "code",
      "source": [
        "#Unpacking tuple\n",
        "name,age=name_and_age\n",
        "print(name)\n",
        "print(age)"
      ],
      "metadata": {
        "colab": {
          "base_uri": "https://localhost:8080/"
        },
        "id": "N93mQfyAKijn",
        "outputId": "d3d82c40-33ec-465a-c913-5c5d3feb0524"
      },
      "execution_count": null,
      "outputs": [
        {
          "output_type": "stream",
          "name": "stdout",
          "text": [
            "saumoon\n",
            "22\n"
          ]
        }
      ]
    },
    {
      "cell_type": "code",
      "source": [
        "#loop for iterator each elements in a tuple\n",
        "\n",
        "favourites=(\"sleeping\",\"travelling\")\n",
        "for favourite in favourites:\n",
        "  print(favourite)\n"
      ],
      "metadata": {
        "colab": {
          "base_uri": "https://localhost:8080/"
        },
        "id": "PKoc6oCSK5hS",
        "outputId": "0eaf31f3-2023-4581-a1ec-85e9f0750a03"
      },
      "execution_count": null,
      "outputs": [
        {
          "output_type": "stream",
          "name": "stdout",
          "text": [
            "sleeping\n",
            "travelling\n"
          ]
        }
      ]
    },
    {
      "cell_type": "code",
      "source": [
        "#tuple length\n",
        "print(len(favourites))"
      ],
      "metadata": {
        "colab": {
          "base_uri": "https://localhost:8080/"
        },
        "id": "M89BXwG0LqgH",
        "outputId": "c43319b7-44c2-4980-9820-0c541f7c3c9b"
      },
      "execution_count": null,
      "outputs": [
        {
          "output_type": "stream",
          "name": "stdout",
          "text": [
            "2\n"
          ]
        }
      ]
    },
    {
      "cell_type": "code",
      "source": [
        "#combined tuple\n",
        "a=(1,2,3)\n",
        "b=(4,5,6)\n",
        "print(a+b)\n"
      ],
      "metadata": {
        "colab": {
          "base_uri": "https://localhost:8080/"
        },
        "id": "YsBQDZ2HLyR2",
        "outputId": "3e719189-34d0-46a0-f3fb-44d2cbf04d9d"
      },
      "execution_count": null,
      "outputs": [
        {
          "output_type": "stream",
          "name": "stdout",
          "text": [
            "(1, 2, 3, 4, 5, 6)\n"
          ]
        }
      ]
    },
    {
      "cell_type": "markdown",
      "source": [
        "**DICTIONARY**"
      ],
      "metadata": {
        "id": "AhzClZpFMCKc"
      }
    },
    {
      "cell_type": "code",
      "source": [
        "#access values in dictionary\n",
        "myself={\n",
        "    \"name\":\"saumoon\",\n",
        "    \"age\": 22,\n",
        "    \"major\":\"computer-science\"\n",
        "}\n",
        "print(myself[\"name\"])\n",
        "print(myself[\"major\"])"
      ],
      "metadata": {
        "colab": {
          "base_uri": "https://localhost:8080/"
        },
        "id": "js-z2CrFMEWz",
        "outputId": "552ab974-d88e-478c-efaa-74d42a02091a"
      },
      "execution_count": null,
      "outputs": [
        {
          "output_type": "stream",
          "name": "stdout",
          "text": [
            "saumoon\n",
            "computer-science\n"
          ]
        }
      ]
    },
    {
      "cell_type": "code",
      "source": [
        "#change value\n",
        "myself[\"age\"]=22\n",
        "print(myself[\"age\"])"
      ],
      "metadata": {
        "colab": {
          "base_uri": "https://localhost:8080/"
        },
        "id": "4ZMrPEQcNmer",
        "outputId": "6ddaf904-5ca0-4a63-d462-c380cb964406"
      },
      "execution_count": null,
      "outputs": [
        {
          "output_type": "stream",
          "name": "stdout",
          "text": [
            "22\n"
          ]
        }
      ]
    },
    {
      "cell_type": "code",
      "source": [
        "#adding values\n",
        "myself[\"gender\"]=\"Female\"\n",
        "print(myself)"
      ],
      "metadata": {
        "colab": {
          "base_uri": "https://localhost:8080/"
        },
        "id": "XGqdQu-eN3KN",
        "outputId": "bfa3d1d9-0d3c-4373-f8cd-4f0e8cf1211a"
      },
      "execution_count": null,
      "outputs": [
        {
          "output_type": "stream",
          "name": "stdout",
          "text": [
            "{'name': 'saumoon', 'age': 22, 'major': 'computer-science', 'gender': 'Female'}\n"
          ]
        }
      ]
    },
    {
      "cell_type": "code",
      "source": [
        "# delete value\n",
        "del myself[\"age\"]\n",
        "print(myself)\n"
      ],
      "metadata": {
        "colab": {
          "base_uri": "https://localhost:8080/"
        },
        "id": "FWFeWDzfNmjD",
        "outputId": "4d85a86a-43f9-4254-848e-cd4957070f8f"
      },
      "execution_count": null,
      "outputs": [
        {
          "output_type": "stream",
          "name": "stdout",
          "text": [
            "{'name': 'saumoon', 'major': 'computer-science', 'gender': 'Female'}\n"
          ]
        }
      ]
    },
    {
      "cell_type": "code",
      "source": [
        "#Check age exist or not\n",
        "if \"age\" in myself:\n",
        "  print(\"Age:\",myself[\"age\"])\n",
        "else:\n",
        "  print(\"Age is not found\")\n"
      ],
      "metadata": {
        "colab": {
          "base_uri": "https://localhost:8080/"
        },
        "id": "8z_EbMmuNmmd",
        "outputId": "e4f289d3-87f5-45fb-d7cf-c66c44548cf4"
      },
      "execution_count": null,
      "outputs": [
        {
          "output_type": "stream",
          "name": "stdout",
          "text": [
            "Age is not found\n"
          ]
        }
      ]
    },
    {
      "cell_type": "code",
      "source": [
        "#Print keys and values\n",
        "keys=myself.keys()\n",
        "values=myself.values()\n",
        "print(keys)\n",
        "print(values)\n"
      ],
      "metadata": {
        "colab": {
          "base_uri": "https://localhost:8080/"
        },
        "id": "fkS2U9GTNmyu",
        "outputId": "34e521e9-c255-41a4-9adc-7796f3cdd61a"
      },
      "execution_count": null,
      "outputs": [
        {
          "output_type": "stream",
          "name": "stdout",
          "text": [
            "dict_keys(['name', 'major', 'gender'])\n",
            "dict_values(['saumoon', 'computer-science', 'Female'])\n"
          ]
        }
      ]
    }
  ]
}